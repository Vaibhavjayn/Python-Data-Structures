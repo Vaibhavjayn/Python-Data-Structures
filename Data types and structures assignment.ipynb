{
 "cells": [
  {
   "cell_type": "markdown",
   "id": "b6fe23d7",
   "metadata": {},
   "source": [
    "Q1.  What are data structures, and why are they important?\n",
    "Ans. Data structures in Python are helpful in storing our data in our useful and particular structure according to given task and this also useful for easy arranging, organizing, accessing or manipulating our Data. This led us to use data accordingly and effectively. They are significant in different scenarios as there are different kinds of data structures in Python i.e if we want to make data in a proper sequential ordered way then we can use Tuple or List depending in use case, if we want to get any modification in data then it can only be possible in case of list only but not in case of tuple."
   ]
  },
  {
   "cell_type": "markdown",
   "id": "436dc642",
   "metadata": {},
   "source": [
    "Q2.  Explain the difference between mutable and immutable data types with examples.\n",
    "Ans. Mutable Data types are simply defined as the data structures which can be modified later after their creation and can be again and again changed with time whereas in immutable data types indicates those structures which can not be changed or modified later once they created. In simple meaning mutable are those which are changeable and immutable are those which are unchangeable. Like List is example of mutable and tuple is example of immutable data type."
   ]
  },
  {
   "cell_type": "markdown",
   "id": "6b66e5c5",
   "metadata": {},
   "source": [
    "Q3. What are the main differences between lists and tuples in Python?\n",
    "Ans. Lists and tuples are data types which can consist heterogeneous type of data in it. But lists are those which fall under category of mutable data type but tuples are known to be immutable, i.e. once the tuple is created it can not be modified but list cab perform any modification. Lists can do task of adding new element but tuple can't as it can only show the data stored in it but can't add any new element in it."
   ]
  },
  {
   "cell_type": "markdown",
   "id": "23d31260",
   "metadata": {},
   "source": [
    "Q4. Describe how dictionaries store data.\n",
    "Ans. Dictionaries are one of the data structures in python which is considered to be the best for storing the data in industry as it stores the data in KEY:VALUE pair and enclosed with {}. Like this {Key:Value} which is beneficial for storing the data which indicated unique identity or any specific identity of any object in data with KEY and VALUE will get the information of the that specific defined name. Dictionaries can also store heterogeneous type data and we can access data or any particular element from our dictionary by definig that element's specific key with dictionary name."
   ]
  },
  {
   "cell_type": "markdown",
   "id": "ce16cd7d",
   "metadata": {},
   "source": [
    "Q5. Why might you use a set instead of a list in Python?\n",
    "Ans. Set is considered to be useful in case when we need to get only unique elements in our data and set helps to store such data in which no duplicates are allwed only unique elements will be considered i.e if there is repeated value of any such data , it will consider only one appearance of the element and rest same elements will be neglected. Also, Sets are unordered where order of elements doesn't matter it can store data in any random order which leads to prevent any duplicate values to be put inside and majorly no indexing can be done in it so it creates chances of preserving data to get easily accessed in any specified range. Also Set performs operations like Union, Intersection, Difference and symmetric difference . Which make it versatile to perform task of joining two different sets together and ensuring duplicates to get detected. So, it can be used in doing task like above in comparison to list."
   ]
  },
  {
   "cell_type": "markdown",
   "id": "139e51cf",
   "metadata": {},
   "source": [
    "Q6.  What is a string in Python, and how is it different from a list?\n",
    "Ans. String is another data type which consists Characters like Name of any person, object or place, like Ram , Mohan , Delhi or Pencil and they are enclosed with \" \" sign to specify that this is string and python can easily understand what type of data we are entering. Ex. b = [\"Ram\", \"Sham\", \"Mohan\", \"Delhi\"]. Whereas in contrast with List it is way different as list is a data structure which can store each and every type of data even strings like in Ex. \"b\" and we can mix multiple data like integers, float values or even string with them in same list so, specifically we can say that list consist all data types whereas string also can consist all data types but string is immutable and list is mutable. "
   ]
  },
  {
   "cell_type": "markdown",
   "id": "fe5b6ae0",
   "metadata": {},
   "source": [
    "Q7.  How do tuples ensure data integrity in Python?\n",
    "Ans. Tuples in Python ensure that once the elements of any data types stored in the tuple then no element will be modified i.e once the specific element is inserted the element will remain same in the tuple it will not be changed and be in same exactly like inserted during creation. We can say tuples are immutable. We can only access elements from it i.e we can do slicing to know the sequence of elements present in the tuple. We can't add any element or remove any specific element inside the tuple, this way tuple helps to make sure no data got unwantedly changed."
   ]
  },
  {
   "cell_type": "markdown",
   "id": "e24301c9",
   "metadata": {},
   "source": [
    "Q8. What is a hash table, and how does it relate to dictionaries in Python?\n",
    "Ans. Hash table denotes the values that are uniquely provided their own respective unique identity i.e in context of dictionary we store data in form of {Key:Value} pairs and the key in dictionary should be hashable i.e it can have such keys which are in form of unchangeable type i.e that will be unique and the value can be of any type , it can be unhashable as value may vary but the unique id address can't be changed . So in dictionary we only consider to form key using string or numbers ."
   ]
  },
  {
   "cell_type": "markdown",
   "id": "68418780",
   "metadata": {},
   "source": [
    "Q9. Can lists contain different data types in Python?\n",
    "Ans. Lists in Python can contain data of any different data types , as list is a collection of heterogeneous data types which means it can store data which can be integer, float, boolean or even complex numbers and strings too can be added in single list. Also, Lists are mutable so we can anytime anywhere change the elements accordingly. \n",
    "Ex. l = [\"Radha\", 56, 4.7, True, (3+7j)] , it is a list named l where different data types are stored. "
   ]
  },
  {
   "cell_type": "markdown",
   "id": "e03c3138",
   "metadata": {},
   "source": [
    "Q10. Explain why strings are immutable in Python.\n",
    "Ans. Strings in Python is the data type which stores or consists mainly characters in it, but it also often used for indicating any other data type as string by enclosing it with \" \" , this led to mark or initiate the element as the one separate unique element and is meant to be special among all data stored with it . So to preserve the data to be used in anywhere and is meant to be specific and need to deliever special specified meanings then string will be the best choice to indicate it as required. Also, Strings will not be changeable so to ensure data meaning or usage. That's why string is meant to be immutable.\n",
    "Ex. a = \"Ram\", here if we try to change the any letter in Ram it will not get changed ."
   ]
  },
  {
   "cell_type": "markdown",
   "id": "955b8f93",
   "metadata": {},
   "source": [
    "Q11. What advantages do dictionaries offer over lists for certain tasks?\n",
    "Ans. Dictionaries are the data structure which is considered to be the best among all other data structures and it is also majorly preferable as we get the data from anywhere in dict data type i.e in {Key:Value} pair, so to label or index each record or information in the table stored in row can be put under its specific identity that is represented by its column name in Dataframe or any table. Hence to do tasks like mapping, or doing fast lookup tasks dictionary is ideal as due to its format and can easily provide specific information or record whereas list simply stores data in it and do not provide such functionalities that's why dictionary is preferable in these such tasks."
   ]
  },
  {
   "cell_type": "markdown",
   "id": "e30f4031",
   "metadata": {},
   "source": [
    "Q12. Describe a scenario where using a tuple would be preferable over a list.\n",
    "Ans. Using tuple in place of list would be most preferable to use in those scenario cases where we do not want to modify our stored data and it will be not be changed by anyone. Once the data is stored and tuple is created then it can be only able to show elements but no data will be changed at any stage. It helps in storing data which is highly sensitive or need to be secured from any external means, which represents belongingness a unique belonging of someone . Like in scenario where we want to store our such information like our government provided unique identity card i.e like aadhar card so we would preferably use tuple over list."
   ]
  },
  {
   "cell_type": "markdown",
   "id": "e11d6ce8",
   "metadata": {},
   "source": [
    "Q13. How do sets handle duplicate values in Python?\n",
    "Ans. Sets in Python is used on principle of storing and providing user a unique element, i.e in sets it do not store repetitive values given in input and simply return output where the all repetitive values will be counted as single value and then displays one count for each unique element. Also, Set is known as mutable data type but it stores only those values which should be immutable, i.e we can store integer, other data strucure like tuples consisting some values in it but the value should be immutable so to get each and every element inside set as unique ."
   ]
  },
  {
   "cell_type": "markdown",
   "id": "511f9be8",
   "metadata": {},
   "source": [
    "Q14. How does the “in” keyword work differently for lists and dictionaries?\n",
    "Ans. \"in\" keyword used to perform Membership operation in Python that checks that the given value is present or a part of the specified data structure or not or even in String, If we want to know its usage in lists and dictionaries, here in lists, it simply perform linear search i.e it checks from start to the end to know that if the given element exists in the list or not.\n",
    "But in Case of Dictionaries as we are aware of dict stores value in {Key:Value} pairs so when we perform \"in\" in dictionary then it initially by default find and give results on basis of \"Key\" finding, if we want to find value then we are required to specify it to search in dict.values()."
   ]
  },
  {
   "cell_type": "markdown",
   "id": "3d2266ea",
   "metadata": {},
   "source": [
    "Q15. Can you modify the elements of a tuple? Explain why or why not.\n",
    "Ans. Tuples are those data structure in python that are made to work in a way of storing elements and ensuring no element will no longer be modified or be mutable after creation of tuple i.e once the element is stored in form of tuple, it will be only viewed or accessed but can't be changed anymore. so as to make our data security more secured and the data stored in this considered to be sensitive and private data of the user that tend to be belonged to user only. It stores data which could be any government document or any such numbers like phone numbers which are often required to be changed.So in this case tuples are the best choice."
   ]
  },
  {
   "cell_type": "markdown",
   "id": "2072652d",
   "metadata": {},
   "source": [
    "Q16. What is a nested dictionary, and give an example of its use case?\n",
    "Ans. Nested Dictionary is the Dictionary inside a Dictionary i.e storing values in Dictionary form will again work as values in the outer dictionary and will be assigned with their each unique key. This is done to enhance more uniqueness of records of our data so to obtain it with more ease and can be done to know the components of any specific data. Example in real world can be seen in making of employee records of any company where the name,department,salary can be such factors that are used to define unique employee in the data but when there is different employees but having same name,department and salary then in that case we are required to identify our employee with more uniqueness by specifying unique employee_id to each employee that helps to discard any possibility of confusion."
   ]
  },
  {
   "cell_type": "markdown",
   "id": "c93f6cd2",
   "metadata": {},
   "source": [
    "Q17. Describe the time complexity of accessing elements in a dictionary.\n",
    "Ans. Dictionaries in Python are implemented as Hash Tables. Which means the way where Hashing is used for fast data access.\n",
    "Instead of searching through every item (like in a list), Python uses the hash value to jump straight to the location in memory where the data is stored.This gives us that amazing O(1) time complexity for lookups as Hashing is the process of converting data into a fixed-size number (called a hash value or hash code) using a mathematical function called a hash function.This gives us the unique address or unique location to find our stored value in Dictionary.This helps to directly access the value by its indicated key hash number or value. The time complexity is almost always Average case i.e O(1) which means constant time regardless of the size of the dictionary."
   ]
  },
  {
   "cell_type": "markdown",
   "id": "54c46f17",
   "metadata": {},
   "source": [
    "Q18. In what situations are lists preferred over dictionaries?\n",
    "Ans. Both Lists and Dictionaries are now considered to be ordered in Python's new versions, as prior dictionaries were not working as ordered collection of items. But still there is such situatuions where using list is beneficial according to use case, like we want to store data in a order in a proper sequence that can be done in both but list offers indexing to access elements by their position(also called as index) and also for the type of data where we want to store duplicate elements where list can store duplicates easily but in dictionary we need to specify that the key can't be duplicate but yes the values stored under unique key can be duplicate. Also Lists require less memory to store in compare to dictionaries."
   ]
  },
  {
   "cell_type": "markdown",
   "id": "dc81c666",
   "metadata": {},
   "source": [
    "Q19. Why are dictionaries considered unordered, and how does that affect data retrieval?\n",
    "Ans. In older version, Dictionaries are used to be unordered as it do not preserve insertion order due to which when we input data in form of dictionary and print it in output the order is totally changed so at the time of data retrieval we are required to access the value by specifying its key whereas now in latest versions, dictionaries do preserve insertion order but still can not be accessed the elements according to the insertion order or by index like lists do , they still use to specify key for the value to be accessed.  "
   ]
  },
  {
   "cell_type": "markdown",
   "id": "c7d1a638",
   "metadata": {},
   "source": [
    "Q20. Explain the difference between a list and a dictionary in terms of data retrieval.\n",
    "Ans. In lists, when we want to retrieve any element then we are having facility to access element by specifying its position or index where it is suited and also lists follow insertion order, and also do the linear search through whole list to search the specific required item from start to end that need to be accessed when we are using \"in\" keyword . Whereas, in Dictionary, Data is simply accessed by indicating its KEY, the unique identity of that specific value stored in Dictionary, this helps to directly get the element stored in memory rather than searching linearly , work same in case of \"in\" keyword."
   ]
  },
  {
   "cell_type": "markdown",
   "id": "e84c475b",
   "metadata": {},
   "source": [
    "# # Practical Questions"
   ]
  },
  {
   "cell_type": "code",
   "execution_count": 1,
   "id": "817344e5",
   "metadata": {},
   "outputs": [
    {
     "data": {
      "text/plain": [
       "'VAIBHAV'"
      ]
     },
     "execution_count": 1,
     "metadata": {},
     "output_type": "execute_result"
    }
   ],
   "source": [
    "# Q1.Write a code to create a string with your name and print it.\n",
    "\n",
    "a = \"VAIBHAV\"\n",
    "a"
   ]
  },
  {
   "cell_type": "code",
   "execution_count": 2,
   "id": "79f64875",
   "metadata": {},
   "outputs": [
    {
     "data": {
      "text/plain": [
       "11"
      ]
     },
     "execution_count": 2,
     "metadata": {},
     "output_type": "execute_result"
    }
   ],
   "source": [
    "# Q2.Write a code to find the length of the string \"Hello World\".\n",
    "\n",
    "c = \"Hello World\"\n",
    "len(c)"
   ]
  },
  {
   "cell_type": "code",
   "execution_count": 3,
   "id": "f8f97353",
   "metadata": {},
   "outputs": [
    {
     "data": {
      "text/plain": [
       "'Pyt'"
      ]
     },
     "execution_count": 3,
     "metadata": {},
     "output_type": "execute_result"
    }
   ],
   "source": [
    "# Q3.Write a code to slice the first 3 characters from the string \"Python Programming\".\n",
    "\n",
    "d = \"Python Programming\"\n",
    "d[0:3]"
   ]
  },
  {
   "cell_type": "code",
   "execution_count": 4,
   "id": "984d5a64",
   "metadata": {},
   "outputs": [
    {
     "data": {
      "text/plain": [
       "'HELLO'"
      ]
     },
     "execution_count": 4,
     "metadata": {},
     "output_type": "execute_result"
    }
   ],
   "source": [
    "# Q4.Write a code to convert the string \"hello\" to uppercase.\n",
    "\n",
    "s = \"hello\"\n",
    "s.upper()"
   ]
  },
  {
   "cell_type": "code",
   "execution_count": 5,
   "id": "4c402b00",
   "metadata": {},
   "outputs": [
    {
     "data": {
      "text/plain": [
       "'I like orange'"
      ]
     },
     "execution_count": 5,
     "metadata": {},
     "output_type": "execute_result"
    }
   ],
   "source": [
    "# Q5.Write a code to replace the word \"apple\" with \"orange\" in the string \"I like apple\".\n",
    "\n",
    "f = \"I like apple\"\n",
    "f.replace(\"apple\",\"orange\")"
   ]
  },
  {
   "cell_type": "code",
   "execution_count": 6,
   "id": "fe77485e",
   "metadata": {},
   "outputs": [
    {
     "data": {
      "text/plain": [
       "[1, 2, 3, 4, 5]"
      ]
     },
     "execution_count": 6,
     "metadata": {},
     "output_type": "execute_result"
    }
   ],
   "source": [
    "# Q6.Write a code to create a list with numbers 1 to 5 and print it.\n",
    "\n",
    "l = [1,2,3,4,5]\n",
    "l"
   ]
  },
  {
   "cell_type": "code",
   "execution_count": 7,
   "id": "b99a515f",
   "metadata": {},
   "outputs": [],
   "source": [
    "# Q7.Write a code to append the number 10 to the list [1, 2, 3, 4].\n",
    "l1 = [1,2,3,4]\n",
    "l1.append(10)"
   ]
  },
  {
   "cell_type": "code",
   "execution_count": 8,
   "id": "98130bbb",
   "metadata": {},
   "outputs": [
    {
     "data": {
      "text/plain": [
       "[1, 2, 3, 4, 10]"
      ]
     },
     "execution_count": 8,
     "metadata": {},
     "output_type": "execute_result"
    }
   ],
   "source": [
    "l1"
   ]
  },
  {
   "cell_type": "code",
   "execution_count": 9,
   "id": "f1564b13",
   "metadata": {},
   "outputs": [],
   "source": [
    "# Q8.Write a code to remove the number 3 from the list [1, 2, 3, 4, 5].\n",
    "l = [1,2,3,4,5]\n",
    "l.remove(3)"
   ]
  },
  {
   "cell_type": "code",
   "execution_count": 10,
   "id": "8c7ed8e6",
   "metadata": {},
   "outputs": [
    {
     "data": {
      "text/plain": [
       "[1, 2, 4, 5]"
      ]
     },
     "execution_count": 10,
     "metadata": {},
     "output_type": "execute_result"
    }
   ],
   "source": [
    "l"
   ]
  },
  {
   "cell_type": "code",
   "execution_count": 11,
   "id": "f82c9fda",
   "metadata": {},
   "outputs": [
    {
     "data": {
      "text/plain": [
       "'b'"
      ]
     },
     "execution_count": 11,
     "metadata": {},
     "output_type": "execute_result"
    }
   ],
   "source": [
    "# Q9.Write a code to access the second element in the list ['a', 'b', 'c', 'd'].\n",
    "m = ['a', 'b', 'c', 'd']\n",
    "m[1]"
   ]
  },
  {
   "cell_type": "code",
   "execution_count": 18,
   "id": "09953799",
   "metadata": {},
   "outputs": [
    {
     "data": {
      "text/plain": [
       "[50, 40, 30, 20, 10]"
      ]
     },
     "execution_count": 18,
     "metadata": {},
     "output_type": "execute_result"
    }
   ],
   "source": [
    "# Q10.Write a code to reverse the list [10, 20, 30, 40, 50].\n",
    "k = [10, 20, 30, 40, 50]\n",
    "k[4: :-1]"
   ]
  },
  {
   "cell_type": "code",
   "execution_count": 19,
   "id": "3ad9904b",
   "metadata": {},
   "outputs": [
    {
     "data": {
      "text/plain": [
       "(100, 200, 300)"
      ]
     },
     "execution_count": 19,
     "metadata": {},
     "output_type": "execute_result"
    }
   ],
   "source": [
    "# Q11.Write a code to create a tuple with the elements 100, 200, 300 and print it.\n",
    "t = (100,200,300)\n",
    "t"
   ]
  },
  {
   "cell_type": "code",
   "execution_count": 21,
   "id": "5d358225",
   "metadata": {},
   "outputs": [
    {
     "data": {
      "text/plain": [
       "('green', 'blue', 'yellow')"
      ]
     },
     "execution_count": 21,
     "metadata": {},
     "output_type": "execute_result"
    }
   ],
   "source": [
    "# Q12.Write a code to access the second-to-last element of the tuple ('red', 'green', 'blue', 'yellow').\n",
    "t1 =  ('red', 'green', 'blue', 'yellow')\n",
    "t1[1:4]"
   ]
  },
  {
   "cell_type": "code",
   "execution_count": 25,
   "id": "2f7bc4be",
   "metadata": {},
   "outputs": [
    {
     "data": {
      "text/plain": [
       "5"
      ]
     },
     "execution_count": 25,
     "metadata": {},
     "output_type": "execute_result"
    }
   ],
   "source": [
    "# Q13.Write a code to find the minimum number in the tuple (10, 20, 5, 15).\n",
    "t2 = (10,20,5,15)\n",
    "min(t2)"
   ]
  },
  {
   "cell_type": "code",
   "execution_count": 27,
   "id": "3aa08213",
   "metadata": {},
   "outputs": [
    {
     "data": {
      "text/plain": [
       "1"
      ]
     },
     "execution_count": 27,
     "metadata": {},
     "output_type": "execute_result"
    }
   ],
   "source": [
    "# Q14.Write a code to find the index of the element \"cat\" in the tuple ('dog', 'cat', 'rabbit').\n",
    "t3 = ('dog', 'cat', 'rabbit')\n",
    "t3.index(\"cat\")"
   ]
  },
  {
   "cell_type": "code",
   "execution_count": 28,
   "id": "baeeb7df",
   "metadata": {},
   "outputs": [
    {
     "data": {
      "text/plain": [
       "True"
      ]
     },
     "execution_count": 28,
     "metadata": {},
     "output_type": "execute_result"
    }
   ],
   "source": [
    "# Q15.Write a code to create a tuple containing three different fruits and check if \"kiwi\" is in it.\n",
    "t4 = (\"Apple\",\"Mango\",\"Kiwi\")\n",
    "\"Kiwi\" in t4"
   ]
  },
  {
   "cell_type": "code",
   "execution_count": 29,
   "id": "949539fe",
   "metadata": {},
   "outputs": [
    {
     "data": {
      "text/plain": [
       "{'a', 'b', 'c'}"
      ]
     },
     "execution_count": 29,
     "metadata": {},
     "output_type": "execute_result"
    }
   ],
   "source": [
    "# Q16.Write a code to create a set with the elements 'a', 'b', 'c' and print it.\n",
    "s = {\"a\",\"b\",\"c\"}\n",
    "s"
   ]
  },
  {
   "cell_type": "code",
   "execution_count": 30,
   "id": "b6a73ed5",
   "metadata": {},
   "outputs": [],
   "source": [
    "# Q17.Write a code to clear all elements from the set {1, 2, 3, 4, 5}.\n",
    "s1 = {1, 2, 3, 4, 5}\n",
    "s.clear()"
   ]
  },
  {
   "cell_type": "code",
   "execution_count": 31,
   "id": "e51bfde9",
   "metadata": {},
   "outputs": [
    {
     "data": {
      "text/plain": [
       "set()"
      ]
     },
     "execution_count": 31,
     "metadata": {},
     "output_type": "execute_result"
    }
   ],
   "source": [
    "s"
   ]
  },
  {
   "cell_type": "code",
   "execution_count": 32,
   "id": "aacb7bfd",
   "metadata": {},
   "outputs": [],
   "source": [
    "# Q18.Write a code to remove the element 4 from the set {1, 2, 3, 4}.\n",
    "s2 = {1, 2, 3, 4}\n",
    "s2.remove(4)"
   ]
  },
  {
   "cell_type": "code",
   "execution_count": 33,
   "id": "af4d4c23",
   "metadata": {},
   "outputs": [
    {
     "data": {
      "text/plain": [
       "{1, 2, 3}"
      ]
     },
     "execution_count": 33,
     "metadata": {},
     "output_type": "execute_result"
    }
   ],
   "source": [
    "s2"
   ]
  },
  {
   "cell_type": "code",
   "execution_count": 34,
   "id": "75ada3e8",
   "metadata": {},
   "outputs": [
    {
     "data": {
      "text/plain": [
       "{1, 2, 3, 4, 5}"
      ]
     },
     "execution_count": 34,
     "metadata": {},
     "output_type": "execute_result"
    }
   ],
   "source": [
    "# Q19.Write a code to find the union of two sets {1, 2, 3} and {3, 4, 5}.\n",
    "s3 = {1,2,3}\n",
    "s4 = {3,4,5}\n",
    "s3|s4"
   ]
  },
  {
   "cell_type": "code",
   "execution_count": 35,
   "id": "a40193c8",
   "metadata": {},
   "outputs": [
    {
     "data": {
      "text/plain": [
       "{2, 3}"
      ]
     },
     "execution_count": 35,
     "metadata": {},
     "output_type": "execute_result"
    }
   ],
   "source": [
    "# Q20.Write a code to find the intersection of two sets {1, 2, 3} and {2, 3, 4}.\n",
    "s3 = {1,2,3}\n",
    "s5 = {2,3,4}\n",
    "s3 & s5\n"
   ]
  },
  {
   "cell_type": "code",
   "execution_count": 36,
   "id": "a5f8b882",
   "metadata": {},
   "outputs": [
    {
     "data": {
      "text/plain": [
       "{'name': 'Vaibhav', 'age': 22, 'city': 'Sonipat'}"
      ]
     },
     "execution_count": 36,
     "metadata": {},
     "output_type": "execute_result"
    }
   ],
   "source": [
    "# Q21.Write a code to create a dictionary with the keys \"name\", \"age\", and \"city\", and print it.\n",
    "d = {\"name\":\"Vaibhav\",\"age\":22,\"city\":\"Sonipat\"}\n",
    "d"
   ]
  },
  {
   "cell_type": "code",
   "execution_count": 37,
   "id": "0c61275a",
   "metadata": {},
   "outputs": [],
   "source": [
    "# Q22.Write a code to add a new key-value pair \"country\": \"USA\" to the dictionary {'name': 'John', 'age': 25}.\n",
    "d1 = {'name': 'John', 'age': 25}\n",
    "d1[\"country\"]=\"USA\""
   ]
  },
  {
   "cell_type": "code",
   "execution_count": 38,
   "id": "736cd54c",
   "metadata": {},
   "outputs": [
    {
     "data": {
      "text/plain": [
       "{'name': 'John', 'age': 25, 'country': 'USA'}"
      ]
     },
     "execution_count": 38,
     "metadata": {},
     "output_type": "execute_result"
    }
   ],
   "source": [
    "d1"
   ]
  },
  {
   "cell_type": "code",
   "execution_count": 39,
   "id": "ecb1bf07",
   "metadata": {},
   "outputs": [
    {
     "data": {
      "text/plain": [
       "'Alice'"
      ]
     },
     "execution_count": 39,
     "metadata": {},
     "output_type": "execute_result"
    }
   ],
   "source": [
    "# Q23.Write a code to access the value associated with the key \"name\" in the dictionary {'name': 'Alice', 'age': 30}.\n",
    "d2 = {'name': 'Alice', 'age': 30}\n",
    "d2[\"name\"]"
   ]
  },
  {
   "cell_type": "code",
   "execution_count": 42,
   "id": "620f4682",
   "metadata": {},
   "outputs": [
    {
     "data": {
      "text/plain": [
       "22"
      ]
     },
     "execution_count": 42,
     "metadata": {},
     "output_type": "execute_result"
    }
   ],
   "source": [
    "# Q24.Write a code to remove the key \"age\" from the dictionary {'name': 'Bob', 'age': 22, 'city': 'New York'}.\n",
    "d3 = {'name': 'Bob', 'age': 22, 'city': 'New York'}\n",
    "d3.pop(\"age\")"
   ]
  },
  {
   "cell_type": "code",
   "execution_count": 43,
   "id": "e20d3c65",
   "metadata": {},
   "outputs": [
    {
     "data": {
      "text/plain": [
       "{'name': 'Bob', 'city': 'New York'}"
      ]
     },
     "execution_count": 43,
     "metadata": {},
     "output_type": "execute_result"
    }
   ],
   "source": [
    "d3"
   ]
  },
  {
   "cell_type": "code",
   "execution_count": 44,
   "id": "02416810",
   "metadata": {},
   "outputs": [
    {
     "data": {
      "text/plain": [
       "True"
      ]
     },
     "execution_count": 44,
     "metadata": {},
     "output_type": "execute_result"
    }
   ],
   "source": [
    "# Q25.Write a code to check if the key \"city\" exists in the dictionary {'name': 'Alice', 'city': 'Paris'}.\n",
    "d4 = {'name': 'Alice', 'city': 'Paris'}\n",
    "\"city\" in d4"
   ]
  },
  {
   "cell_type": "code",
   "execution_count": 45,
   "id": "e3b775ef",
   "metadata": {},
   "outputs": [
    {
     "name": "stdout",
     "output_type": "stream",
     "text": [
      "[3, 4.5, False, (5+8j), 'Ashwin']\n",
      "(4, 7, 9, 10)\n",
      "{'name': 'Ashwin', 'age': 34}\n"
     ]
    }
   ],
   "source": [
    "# Q26.Write a code to create a list, a tuple, and a dictionary, and print them all.\n",
    "l5 = [3,4.5,False,(5+8j),\"Ashwin\"]\n",
    "t6 = (4,7,9,10)\n",
    "d7 = {\"name\":\"Ashwin\",\"age\":34}\n",
    "print(l5)\n",
    "print(t6)\n",
    "print(d7)"
   ]
  },
  {
   "cell_type": "code",
   "execution_count": 4,
   "id": "23633cc4",
   "metadata": {},
   "outputs": [
    {
     "data": {
      "text/plain": [
       "[5, 20, 34, 48, 66]"
      ]
     },
     "execution_count": 4,
     "metadata": {},
     "output_type": "execute_result"
    }
   ],
   "source": [
    "# Q27. Write a code to create a list of 5 random numbers between 1 and 100, sort it in ascending order, and print the\n",
    "#       result.(replaced)\n",
    "\n",
    "import random\n",
    "l = []\n",
    "for i in range(5):\n",
    "    random_numbers = random.randint(1,100)\n",
    "    l.append(random_numbers)\n",
    "[x for x in sorted(l)]"
   ]
  },
  {
   "cell_type": "code",
   "execution_count": 1,
   "id": "26380d12",
   "metadata": {},
   "outputs": [
    {
     "data": {
      "text/plain": [
       "'New Zealand'"
      ]
     },
     "execution_count": 1,
     "metadata": {},
     "output_type": "execute_result"
    }
   ],
   "source": [
    "# Q28. Write a code to create a list with strings and print the element at the third index.\n",
    "\n",
    "l3 = [\"India\",\"Australia\",\"New Zealand\",\"England\",\"South Africa\"]\n",
    "l3[2]\n"
   ]
  },
  {
   "cell_type": "code",
   "execution_count": 17,
   "id": "daacfe07",
   "metadata": {},
   "outputs": [],
   "source": [
    "# Q29.Write a code to combine two dictionaries into one and print the result.\n",
    "d1 = {\"name\": \"Vaibhav\", \"age\": 22}\n",
    "d2 = {\"City\":\"Sonipat\",\"Job\":\"Data Analyst\",\"Salary\":75000}\n",
    "d1.update(d2)"
   ]
  },
  {
   "cell_type": "code",
   "execution_count": 18,
   "id": "3ead443b",
   "metadata": {},
   "outputs": [
    {
     "data": {
      "text/plain": [
       "{'name': 'Vaibhav',\n",
       " 'age': 22,\n",
       " 'City': 'Sonipat',\n",
       " 'Job': 'Data Analyst',\n",
       " 'Salary': 75000}"
      ]
     },
     "execution_count": 18,
     "metadata": {},
     "output_type": "execute_result"
    }
   ],
   "source": [
    "d1"
   ]
  },
  {
   "cell_type": "code",
   "execution_count": 19,
   "id": "a471161e",
   "metadata": {},
   "outputs": [
    {
     "data": {
      "text/plain": [
       "list"
      ]
     },
     "execution_count": 19,
     "metadata": {},
     "output_type": "execute_result"
    }
   ],
   "source": [
    "# Q30.Write a code to convert a list of strings into a set.\n",
    "l3 = [\"India\",\"Australia\",\"New Zealand\",\"England\",\"South Africa\"]\n",
    "type(l3)"
   ]
  },
  {
   "cell_type": "code",
   "execution_count": 20,
   "id": "362c09ff",
   "metadata": {},
   "outputs": [],
   "source": [
    "l4 = set(l3)"
   ]
  },
  {
   "cell_type": "code",
   "execution_count": 21,
   "id": "ec597f39",
   "metadata": {},
   "outputs": [
    {
     "data": {
      "text/plain": [
       "{'Australia', 'England', 'India', 'New Zealand', 'South Africa'}"
      ]
     },
     "execution_count": 21,
     "metadata": {},
     "output_type": "execute_result"
    }
   ],
   "source": [
    "l4"
   ]
  },
  {
   "cell_type": "code",
   "execution_count": 22,
   "id": "adc40c04",
   "metadata": {},
   "outputs": [
    {
     "data": {
      "text/plain": [
       "set"
      ]
     },
     "execution_count": 22,
     "metadata": {},
     "output_type": "execute_result"
    }
   ],
   "source": [
    "type(l4)"
   ]
  },
  {
   "cell_type": "code",
   "execution_count": null,
   "id": "97705595",
   "metadata": {},
   "outputs": [],
   "source": []
  }
 ],
 "metadata": {
  "kernelspec": {
   "display_name": "Python 3 (ipykernel)",
   "language": "python",
   "name": "python3"
  },
  "language_info": {
   "codemirror_mode": {
    "name": "ipython",
    "version": 3
   },
   "file_extension": ".py",
   "mimetype": "text/x-python",
   "name": "python",
   "nbconvert_exporter": "python",
   "pygments_lexer": "ipython3",
   "version": "3.10.9"
  }
 },
 "nbformat": 4,
 "nbformat_minor": 5
}
